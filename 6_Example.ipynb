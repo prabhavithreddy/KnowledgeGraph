{
 "cells": [
  {
   "cell_type": "markdown",
   "id": "2fce3edc-aa76-49cc-b0c0-77cf4cf82312",
   "metadata": {},
   "source": [
    "## This example tries to extract the data by chunking any document (large document) with small model"
   ]
  },
  {
   "cell_type": "code",
   "execution_count": 1,
   "id": "923f22a9-8bcf-47fe-9b49-f0718db70147",
   "metadata": {},
   "outputs": [],
   "source": [
    "import sys\n",
    "import os\n",
    "import warnings\n",
    "import requests\n",
    "warnings.filterwarnings(action='ignore')\n",
    "sys.path.append(\".\")"
   ]
  },
  {
   "cell_type": "code",
   "execution_count": 2,
   "id": "43496991-1fe3-4c89-83c3-cf72422109e1",
   "metadata": {},
   "outputs": [
    {
     "data": {
      "text/plain": [
       "True"
      ]
     },
     "execution_count": 2,
     "metadata": {},
     "output_type": "execute_result"
    }
   ],
   "source": [
    "from langchain_experimental.graph_transformers import LLMGraphTransformer\n",
    "from langchain_openai import AzureChatOpenAI\n",
    "from bs4 import BeautifulSoup\n",
    "from dotenv import load_dotenv\n",
    "load_dotenv()"
   ]
  },
  {
   "cell_type": "code",
   "execution_count": 18,
   "id": "c1bc3c29-d5ad-401f-b61f-b8901c0a3f13",
   "metadata": {},
   "outputs": [],
   "source": [
    "llm = AzureChatOpenAI(\n",
    "    openai_api_version=os.environ[\"OPENAI_API_VERSION\"],\n",
    "    deployment_name=os.environ[\"AZURE_DEPLOYMENT_NAME\"],\n",
    "    openai_api_type=os.environ[\"OPENAI_API_TYPE\"],\n",
    "    azure_endpoint=os.environ[\"AZURE_OPENAI_ENDPOINT\"],\n",
    "    openai_api_key=os.environ[\"AZURE_OPENAI_API_KEY\"],\n",
    "    default_headers={\n",
    "            \"fds-message-id\": \"14485820-1e81-4f0b-a708-d386d4672a81\",\n",
    "            \"fds-conversation-id\": \"9616f92c-070c-4f3b-8e51-5321b472b24c\"\n",
    "        }\n",
    ")\n",
    "llm_transformer = LLMGraphTransformer(llm=llm)"
   ]
  },
  {
   "cell_type": "code",
   "execution_count": 19,
   "id": "ba39a598-d5b2-450d-9e0d-f3b6f4f0216b",
   "metadata": {},
   "outputs": [],
   "source": [
    "from langchain_community.graphs import Neo4jGraph\n",
    "from langchain_community.vectorstores import Neo4jVector\n",
    "from langchain_core.documents import Document\n",
    "username=os.environ[\"NEO4J_USERNAME\"]\n",
    "password=os.environ[\"NEO4J_PASSWORD\"]\n",
    "url=os.environ[\"NEO4J_URI\"]\n",
    "graph = Neo4jGraph(username=username, password=password, url=url)"
   ]
  },
  {
   "cell_type": "code",
   "execution_count": 20,
   "id": "0e781aaf-ed34-4d65-ad41-3c8e952a4399",
   "metadata": {},
   "outputs": [],
   "source": [
    "from langchain_text_splitters import RecursiveCharacterTextSplitter"
   ]
  },
  {
   "cell_type": "code",
   "execution_count": 21,
   "id": "bd851b97-ab11-44b9-a1d3-e3de46989e27",
   "metadata": {},
   "outputs": [
    {
     "name": "stdout",
     "output_type": "stream",
     "text": [
      "Below document has 118,735 tokens.\n",
      "https://ffdocproxy.prod.factset.com/DocProxy/Fetch/EA7CA834-8E1F-EF11-ABE1-12BC89A8F273\n"
     ]
    }
   ],
   "source": [
    "print(f\"Below document has {'118,735'} tokens.\")\n",
    "url = \"https://ffdocproxy.prod.factset.com/DocProxy/Fetch/EA7CA834-8E1F-EF11-ABE1-12BC89A8F273\"\n",
    "print(url)\n",
    "response = requests.get(url)\n",
    "text = response.content"
   ]
  },
  {
   "cell_type": "code",
   "execution_count": 22,
   "id": "54618433-e5a3-42a2-8642-ee1afa16d30f",
   "metadata": {},
   "outputs": [],
   "source": [
    "soup = BeautifulSoup(text, 'html.parser')"
   ]
  },
  {
   "cell_type": "code",
   "execution_count": 23,
   "id": "27301533-0a89-4b82-bd68-597c98aa7304",
   "metadata": {},
   "outputs": [],
   "source": [
    "text = soup.text"
   ]
  },
  {
   "cell_type": "code",
   "execution_count": 33,
   "id": "3b5bc6c4-774f-4ccb-9161-934ab9eb633d",
   "metadata": {},
   "outputs": [],
   "source": [
    "text_splitter = RecursiveCharacterTextSplitter(\n",
    "    # Set a really small chunk size, just to show.\n",
    "    chunk_size=50000,\n",
    "    chunk_overlap=1000,\n",
    "    length_function=len,\n",
    "    is_separator_regex=False,\n",
    ")"
   ]
  },
  {
   "cell_type": "code",
   "execution_count": 34,
   "id": "0650f771-f30b-42ca-9ac2-c66fa26ecec7",
   "metadata": {},
   "outputs": [],
   "source": [
    "documents = text_splitter.create_documents([text])"
   ]
  },
  {
   "cell_type": "code",
   "execution_count": 35,
   "id": "060c13e6-944a-47fc-9f02-ac9c689a270c",
   "metadata": {},
   "outputs": [],
   "source": [
    "#type(texts[0])"
   ]
  },
  {
   "cell_type": "code",
   "execution_count": 36,
   "id": "170d2e06-b979-47bf-95ab-6b1cdc37a8a0",
   "metadata": {},
   "outputs": [
    {
     "name": "stdout",
     "output_type": "stream",
     "text": [
      "Nodes:[Node(id='Registration Statement No. 333-264388', type='Registration statement'), Node(id='Rule 424(B)(2)', type='Rule'), Node(id='Pricing Supplement', type='Document'), Node(id='May 30, 2024', type='Date'), Node(id='Prospectus', type='Document'), Node(id='May 26, 2022', type='Date'), Node(id='Us$2,000,000,000', type='Amount'), Node(id='Senior Medium-Term Notes, Series H', type='Financial instrument'), Node(id='Us$750,000,000 5.370% Senior Notes Due 2027', type='Financial instrument'), Node(id='Us$800,000,000 5.511% Senior Notes Due 2031', type='Financial instrument'), Node(id='Us$450,000,000 Floating Rate Notes Due 2027', type='Financial instrument'), Node(id='Bank Of Montreal', type='Organization'), Node(id='Compounded Sofr', type='Interest rate'), Node(id='Sofr Index', type='Index'), Node(id='Canada Deposit Insurance Corporation Act (Canada)', type='Legislation'), Node(id='Province Of Ontario', type='Location'), Node(id='Federal Laws Of Canada', type='Legislation'), Node(id='Bmo Capital Markets', type='Organization'), Node(id='Bofa Securities', type='Organization'), Node(id='Citigroup', type='Organization'), Node(id='Deutsche Bank Securities', type='Organization'), Node(id='J.P. Morgan', type='Organization'), Node(id='Natwest Markets', type='Organization'), Node(id='Amerivet Securities', type='Organization'), Node(id='Dbs Bank Ltd.', type='Organization'), Node(id='Desjardins Capital Markets', type='Organization'), Node(id='Imi - Intesa Sanpaolo', type='Organization'), Node(id='Mufg', type='Organization'), Node(id='Nabsecurities, Llc', type='Organization'), Node(id='National Bank Of Canada Financial Markets', type='Organization'), Node(id='Standard Chartered Bank', type='Organization'), Node(id='Tigress Financial Partners', type='Organization'), Node(id='Truist Securities', type='Organization')]\n",
      "Relationships:[Relationship(source=Node(id='Registration Statement No. 333-264388', type='Registration statement'), target=Node(id='Rule 424(B)(2)', type='Rule'), type='FILED_PURSUANT'), Relationship(source=Node(id='Pricing Supplement', type='Document'), target=Node(id='May 30, 2024', type='Date'), type='DATED'), Relationship(source=Node(id='Prospectus', type='Document'), target=Node(id='May 26, 2022', type='Date'), type='DATED'), Relationship(source=Node(id='Senior Medium-Term Notes, Series H', type='Financial instrument'), target=Node(id='Us$2,000,000,000', type='Amount'), type='OFFERING_OF'), Relationship(source=Node(id='Senior Medium-Term Notes, Series H', type='Financial instrument'), target=Node(id='Us$750,000,000 5.370% Senior Notes Due 2027', type='Financial instrument'), type='CONSISTS_OF'), Relationship(source=Node(id='Senior Medium-Term Notes, Series H', type='Financial instrument'), target=Node(id='Us$800,000,000 5.511% Senior Notes Due 2031', type='Financial instrument'), type='CONSISTS_OF'), Relationship(source=Node(id='Senior Medium-Term Notes, Series H', type='Financial instrument'), target=Node(id='Us$450,000,000 Floating Rate Notes Due 2027', type='Financial instrument'), type='CONSISTS_OF'), Relationship(source=Node(id='Us$750,000,000 5.370% Senior Notes Due 2027', type='Financial instrument'), target=Node(id='June 4, 2027', type='Date'), type='MATURES_ON'), Relationship(source=Node(id='Us$800,000,000 5.511% Senior Notes Due 2031', type='Financial instrument'), target=Node(id='June 4, 2031', type='Date'), type='MATURES_ON'), Relationship(source=Node(id='Us$450,000,000 Floating Rate Notes Due 2027', type='Financial instrument'), target=Node(id='June 4, 2027', type='Date'), type='MATURES_ON'), Relationship(source=Node(id='Us$450,000,000 Floating Rate Notes Due 2027', type='Financial instrument'), target=Node(id='Compounded Sofr', type='Interest rate'), type='HAS_INTEREST_RATE_EQUAL_TO'), Relationship(source=Node(id='Compounded Sofr', type='Interest rate'), target=Node(id='Sofr Index', type='Index'), type='DETERMINED_USING'), Relationship(source=Node(id='Notes', type='Financial instrument'), target=Node(id='Canada Deposit Insurance Corporation Act (Canada)', type='Legislation'), type='SUBJECT_TO'), Relationship(source=Node(id='Notes', type='Financial instrument'), target=Node(id='Province Of Ontario', type='Location'), type='SUBJECT_TO_LAWS_OF'), Relationship(source=Node(id='Notes', type='Financial instrument'), target=Node(id='Federal Laws Of Canada', type='Legislation'), type='SUBJECT_TO_LAWS_OF'), Relationship(source=Node(id='Notes', type='Financial instrument'), target=Node(id='Bank Of Montreal', type='Organization'), type='ISSUANCE_BY'), Relationship(source=Node(id='Bank Of Montreal', type='Organization'), target=Node(id='Bmo Capital Markets', type='Organization'), type='COLLABORATES_WITH'), Relationship(source=Node(id='Bank Of Montreal', type='Organization'), target=Node(id='Bofa Securities', type='Organization'), type='COLLABORATES_WITH'), Relationship(source=Node(id='Bank Of Montreal', type='Organization'), target=Node(id='Citigroup', type='Organization'), type='COLLABORATES_WITH'), Relationship(source=Node(id='Bank Of Montreal', type='Organization'), target=Node(id='Deutsche Bank Securities', type='Organization'), type='COLLABORATES_WITH'), Relationship(source=Node(id='Bank Of Montreal', type='Organization'), target=Node(id='J.P. Morgan', type='Organization'), type='COLLABORATES_WITH'), Relationship(source=Node(id='Bank Of Montreal', type='Organization'), target=Node(id='Natwest Markets', type='Organization'), type='COLLABORATES_WITH'), Relationship(source=Node(id='Bank Of Montreal', type='Organization'), target=Node(id='Amerivet Securities', type='Organization'), type='COLLABORATES_WITH'), Relationship(source=Node(id='Bank Of Montreal', type='Organization'), target=Node(id='Dbs Bank Ltd.', type='Organization'), type='COLLABORATES_WITH'), Relationship(source=Node(id='Bank Of Montreal', type='Organization'), target=Node(id='Desjardins Capital Markets', type='Organization'), type='COLLABORATES_WITH'), Relationship(source=Node(id='Bank Of Montreal', type='Organization'), target=Node(id='Imi - Intesa Sanpaolo', type='Organization'), type='COLLABORATES_WITH'), Relationship(source=Node(id='Bank Of Montreal', type='Organization'), target=Node(id='Mufg', type='Organization'), type='COLLABORATES_WITH'), Relationship(source=Node(id='Bank Of Montreal', type='Organization'), target=Node(id='Nabsecurities, Llc', type='Organization'), type='COLLABORATES_WITH'), Relationship(source=Node(id='Bank Of Montreal', type='Organization'), target=Node(id='National Bank Of Canada Financial Markets', type='Organization'), type='COLLABORATES_WITH'), Relationship(source=Node(id='Bank Of Montreal', type='Organization'), target=Node(id='Standard Chartered Bank', type='Organization'), type='COLLABORATES_WITH'), Relationship(source=Node(id='Bank Of Montreal', type='Organization'), target=Node(id='Tigress Financial Partners', type='Organization'), type='COLLABORATES_WITH'), Relationship(source=Node(id='Bank Of Montreal', type='Organization'), target=Node(id='Truist Securities', type='Organization'), type='COLLABORATES_WITH')]\n"
     ]
    }
   ],
   "source": [
    "#documents = [Document(page_content=text)]\n",
    "graph_documents = llm_transformer.convert_to_graph_documents(documents)\n",
    "print(f\"Nodes:{graph_documents[0].nodes}\")\n",
    "print(f\"Relationships:{graph_documents[0].relationships}\")"
   ]
  },
  {
   "cell_type": "code",
   "execution_count": 37,
   "id": "d515798c-2fda-4d3f-afec-80e8e532ef3d",
   "metadata": {},
   "outputs": [],
   "source": [
    "graph.add_graph_documents(\n",
    "  graph_documents, \n",
    "  baseEntityLabel=True, \n",
    "  include_source=True\n",
    ")"
   ]
  },
  {
   "cell_type": "code",
   "execution_count": 48,
   "id": "9b5ba432-e8da-4c5e-9cbf-c88c4636f6f0",
   "metadata": {},
   "outputs": [],
   "source": [
    "query = \"\"\"Please extract the following information from the given document:\n",
    " \n",
    "ISIN: ISIN is a standard security code that is used worldwide to identify specific securities such as bonds, stocks (common and preferred), futures, warrant, rights, trusts, commercial paper, and options.\n",
    " \n",
    "Example Value: US606822DE19\n",
    "Entity: Issuer is a legal entity that develops, registers and sells securities with the purpose of financing its operations.\n",
    " \n",
    "Example Value: Mitsubishi UFJ Financial Group, Inc.\n",
    "Deal Type: Deal Type is the security type grouping of the instrument being offered.\n",
    " \n",
    "Example Value: Medium-Term Notes\n",
    "Seniority: Seniority of a security shows the order of repayment in the event the issuer goes bankrupt or defaults.\n",
    " \n",
    "Example Value: Senior\n",
    "COCO: Flag for Contingent convertibles, also known as CoCos, are a type of hybrid debt security that can be converted into equity shares if a specified trigger event occurs.\n",
    " \n",
    "Example Value: null\n",
    "Pledge Status: Indicator whether the debt is secured by a specific asset of the issuer to give protection to the bondholders in case the issuer defaults.\n",
    " \n",
    "Example Value: Unsecured\n",
    "Issue Price (%): Issue Price is the price at which investors buy the bonds when they are first issued, which will typically be approximately equal to the nominal amount.\n",
    " \n",
    "Example Value: 100.00000\n",
    "Face Value: Face Value/Par Value is the actual currency amount that each security is worth. Any calculation of redemption, conversion or liquidation of the security is based on Face Value.\n",
    " \n",
    "Example Value: 1000.00000\n",
    "Min Denomination/Subscription: Min Denomination is the minimum amount an investor must subscribe to in order to purchase the securities.\n",
    " \n",
    "Example Value: 200000.00\n",
    "Issue Date: Date when the security is issued.\n",
    " \n",
    "Example Value: 2024-04-17\n",
    "Principal Amount: The aggregate nominal amount issued for the security at the time of issuance.\n",
    " \n",
    "Example Value: 900000000.00000\n",
    "Issue Currency: Currency of the Principal Amount that the notes are issued.\n",
    " \n",
    "Example Value: U.S. Dollar\n",
    "Scheduled Maturity Date: Date when the security is redeemed.\n",
    " \n",
    "Example Value: 2030-04-17\n",
    "First Payment Date: Date when the first coupon/divided payment will happen.\n",
    " \n",
    "Example Value: 2024-10-17\n",
    "Type: Type of Coupon (e.g., Fixed Rate).\n",
    " \n",
    "Example Value: Fixed Rate\n",
    "Rate: Fixed Annual Coupon Rate/Annual Accretion Rate Value.\n",
    " \n",
    "Example Value: 5.25800\n",
    "Base Index: Reference instrument the Coupon Type Variable/Conditional/Floating Rate will be using.\n",
    " \n",
    "Example Value: null\n",
    "Spread: Fixed value that is added/subtracted to the Base Index when calculating the coupon rate in a coupon period.\n",
    " \n",
    "Example Value: null\n",
    "Day Count: Day Count Conventions are used to count the appropriate number of days between two dates in order to calculate accrued interest, yields and odd coupon amounts.\n",
    " \n",
    "Example Value: 30/360\n",
    "First Accrual Date: First Accrual Date is the start date of the accrual interest period.\n",
    " \n",
    "Example Value: 2024-04-17\n",
    "Payment Frequency: Payment Frequency and Payment Frequency Units show how frequent the coupon payments are made.\n",
    " \n",
    "Example Value: 2\n",
    "Payment Frequency Units: Units of payment frequency (e.g., Times per Year).\n",
    " \n",
    "Example Value: Times per Year\n",
    "Effective Payment Date: Effective Payment Date is the first interest payment date in a coupon leg.\n",
    " \n",
    "Example Value: 2024-10-17\n",
    "End Payment Date: End Payment Date is the last interest payment date in a coupon leg.\n",
    " \n",
    "Example Value: 2029-04-17\n",
    "Call Type: Type of Early Redemption.\n",
    " \n",
    "Example Value: Optional\n",
    "Call Frequency Type: Early Redemption Frequency type shows how frequently the bonds may be redeemed early.\n",
    " \n",
    "Example Value: Discrete on Schedule\n",
    "Call Effective Date: Early redemption start date (for continuous on schedule or every coupon or discrete on schedule with periodic dates) or the effective early redemption date (for discrete on schedule – on the effective date).\n",
    " \n",
    "Example Value: 2024-04-17\n",
    "Call End Date: The end date for the early redemption period.\n",
    " \n",
    "Example Value: 2030-04-17\n",
    "Call Price: The price at which the principal will be redeemed.\n",
    " \n",
    "Example Value: 100.00000\n",
    "CONVERTIBILITY: Conversion details of the Bond.\n",
    " \n",
    "Example Value: null\n",
    "Document to extract from:\n",
    " \n",
    "If any value is not available, return null for that field. Return the output in markdown table format with columns Field, Value with proper column width.\n",
    "If there are multiple transactions return each in a different markdown table\n",
    "\"\"\""
   ]
  },
  {
   "cell_type": "code",
   "execution_count": 49,
   "id": "92bf43c8-77a5-48d7-9158-e6369b9a337f",
   "metadata": {
    "scrolled": true
   },
   "outputs": [
    {
     "name": "stderr",
     "output_type": "stream",
     "text": [
      "Received notification from DBMS server: {severity: WARNING} {code: Neo.ClientNotification.Statement.FeatureDeprecationWarning} {category: DEPRECATION} {title: This feature is deprecated and will be removed in future versions.} {description: The query used a deprecated procedure. ('db.create.setVectorProperty' has been replaced by 'db.create.setNodeVectorProperty')} {position: line: 1, column: 70, offset: 69} for query: \"UNWIND $data AS row MATCH (n:`Document`) WHERE elementId(n) = row.id CALL db.create.setVectorProperty(n, 'embedding', row.embedding) YIELD node RETURN count(*)\"\n"
     ]
    }
   ],
   "source": [
    "from langchain_openai import AzureOpenAIEmbeddings\n",
    "\n",
    "embeddings = AzureOpenAIEmbeddings(\n",
    "    model=\"text-embedding-ada-002\",\n",
    "    openai_api_version=os.environ[\"OPENAI_API_VERSION\"],\n",
    "    openai_api_type=os.environ[\"OPENAI_API_TYPE\"],\n",
    "    azure_endpoint=os.environ[\"AZURE_OPENAI_ENDPOINT\"],\n",
    "    openai_api_key=os.environ[\"AZURE_OPENAI_API_KEY\"],\n",
    ")\n",
    "\n",
    "vector_index = Neo4jVector.from_existing_graph(\n",
    "    embeddings,\n",
    "    search_type=\"hybrid\",\n",
    "    node_label=\"Document\",\n",
    "    text_node_properties=[\"text\"],\n",
    "    embedding_node_property=\"embedding\"\n",
    ")"
   ]
  },
  {
   "cell_type": "code",
   "execution_count": 50,
   "id": "c686246f-71f5-4844-8557-64373366136f",
   "metadata": {},
   "outputs": [
    {
     "name": "stdout",
     "output_type": "stream",
     "text": [
      "```markdown\n",
      "### Transaction 1\n",
      "\n",
      "| Field                          | Value                          |\n",
      "|--------------------------------|--------------------------------|\n",
      "| ISIN                           | null                           |\n",
      "| Entity                         | Bank of Montreal               |\n",
      "| Deal Type                      | Medium-Term Notes              |\n",
      "| Seniority                      | Senior                         |\n",
      "| COCO                           | null                           |\n",
      "| Pledge Status                  | Unsecured                      |\n",
      "| Issue Price (%)                | null                           |\n",
      "| Face Value                     | 1000.00000                     |\n",
      "| Min Denomination/Subscription  | 1000.00000                     |\n",
      "| Issue Date                     | null                           |\n",
      "| Principal Amount               | null                           |\n",
      "| Issue Currency                 | U.S. Dollar                    |\n",
      "| Scheduled Maturity Date        | null                           |\n",
      "| First Payment Date             | null                           |\n",
      "| Type                           | null                           |\n",
      "| Rate                           | null                           |\n",
      "| Base Index                     | null                           |\n",
      "| Spread                         | null                           |\n",
      "| Day Count                      | 30/360                         |\n",
      "| First Accrual Date             | null                           |\n",
      "| Payment Frequency              | null                           |\n",
      "| Payment Frequency Units        | null                           |\n",
      "| Effective Payment Date         | null                           |\n",
      "| End Payment Date               | null                           |\n",
      "| Call Type                      | Optional                       |\n",
      "| Call Frequency Type            | Discrete on Schedule           |\n",
      "| Call Effective Date            | null                           |\n",
      "| Call End Date                  | null                           |\n",
      "| Call Price                     | null                           |\n",
      "| CONVERTIBILITY                 | null                           |\n",
      "```\n"
     ]
    }
   ],
   "source": [
    "from langchain.chains import RetrievalQA\n",
    "\n",
    "qa_chain = RetrievalQA.from_chain_type(\n",
    "    llm, retriever=vector_index.as_retriever()\n",
    ")\n",
    "\n",
    "result = qa_chain({\"query\": query})\n",
    "print(result[\"result\"])"
   ]
  },
  {
   "cell_type": "code",
   "execution_count": 42,
   "id": "93a0f2e2-8354-43b7-906b-7ca933b3d98c",
   "metadata": {},
   "outputs": [
    {
     "data": {
      "text/plain": [
       "AzureChatOpenAI(client=<openai.resources.chat.completions.Completions object at 0x00000185152AC210>, async_client=<openai.resources.chat.completions.AsyncCompletions object at 0x00000185151F2210>, openai_api_key=SecretStr('**********'), openai_proxy='', default_headers={'fds-message-id': '14485820-1e81-4f0b-a708-d386d4672a81', 'fds-conversation-id': '9616f92c-070c-4f3b-8e51-5321b472b24c'}, azure_endpoint='https://azure-llm.factset.com', deployment_name='gpt-4o-0513', openai_api_version='2024-02-01', openai_api_type='azure')"
      ]
     },
     "execution_count": 42,
     "metadata": {},
     "output_type": "execute_result"
    }
   ],
   "source": [
    "llm"
   ]
  },
  {
   "cell_type": "code",
   "execution_count": null,
   "id": "80d66988-df98-439a-9431-6e19d0d5b07a",
   "metadata": {},
   "outputs": [],
   "source": []
  }
 ],
 "metadata": {
  "kernelspec": {
   "display_name": "Python 3 (ipykernel)",
   "language": "python",
   "name": "python3"
  },
  "language_info": {
   "codemirror_mode": {
    "name": "ipython",
    "version": 3
   },
   "file_extension": ".py",
   "mimetype": "text/x-python",
   "name": "python",
   "nbconvert_exporter": "python",
   "pygments_lexer": "ipython3",
   "version": "3.11.6"
  }
 },
 "nbformat": 4,
 "nbformat_minor": 5
}
