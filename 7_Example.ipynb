{
 "cells": [
  {
   "cell_type": "markdown",
   "id": "2fce3edc-aa76-49cc-b0c0-77cf4cf82312",
   "metadata": {},
   "source": [
    "## This example tries to extract the data by chunking any document (large document) with small model using normal RAG"
   ]
  },
  {
   "cell_type": "code",
   "execution_count": 9,
   "id": "923f22a9-8bcf-47fe-9b49-f0718db70147",
   "metadata": {},
   "outputs": [],
   "source": [
    "import sys\n",
    "import os\n",
    "import bs4\n",
    "import warnings\n",
    "import requests\n",
    "warnings.filterwarnings(action='ignore')\n",
    "sys.path.append(\".\")"
   ]
  },
  {
   "cell_type": "code",
   "execution_count": 17,
   "id": "43496991-1fe3-4c89-83c3-cf72422109e1",
   "metadata": {},
   "outputs": [
    {
     "data": {
      "text/plain": [
       "True"
      ]
     },
     "execution_count": 17,
     "metadata": {},
     "output_type": "execute_result"
    }
   ],
   "source": [
    "from langchain_experimental.graph_transformers import LLMGraphTransformer\n",
    "from langchain_community.document_loaders import WebBaseLoader\n",
    "from langchain_community.vectorstores import Chroma\n",
    "from langchain_core.output_parsers import StrOutputParser\n",
    "from langchain_core.runnables import RunnablePassthrough\n",
    "from langchain_openai import AzureChatOpenAI\n",
    "from bs4 import BeautifulSoup\n",
    "from dotenv import load_dotenv\n",
    "load_dotenv()"
   ]
  },
  {
   "cell_type": "code",
   "execution_count": 11,
   "id": "c1bc3c29-d5ad-401f-b61f-b8901c0a3f13",
   "metadata": {},
   "outputs": [],
   "source": [
    "llm = AzureChatOpenAI(\n",
    "    openai_api_version=os.environ[\"OPENAI_API_VERSION\"],\n",
    "    deployment_name=os.environ[\"AZURE_DEPLOYMENT_NAME\"],\n",
    "    openai_api_type=os.environ[\"OPENAI_API_TYPE\"],\n",
    "    azure_endpoint=os.environ[\"AZURE_OPENAI_ENDPOINT\"],\n",
    "    openai_api_key=os.environ[\"AZURE_OPENAI_API_KEY\"],\n",
    "    default_headers={\n",
    "            \"fds-message-id\": \"14485820-1e81-4f0b-a708-d386d4672a81\",\n",
    "            \"fds-conversation-id\": \"9616f92c-070c-4f3b-8e51-5321b472b24c\"\n",
    "        }\n",
    ")\n",
    "llm_transformer = LLMGraphTransformer(llm=llm)"
   ]
  },
  {
   "cell_type": "code",
   "execution_count": 12,
   "id": "ba39a598-d5b2-450d-9e0d-f3b6f4f0216b",
   "metadata": {},
   "outputs": [],
   "source": [
    "url = \"https://ffdocproxy.prod.factset.com/DocProxy/Fetch/EA7CA834-8E1F-EF11-ABE1-12BC89A8F273\"\n",
    "loader = WebBaseLoader(\n",
    "    web_paths=(url,),\n",
    "    bs_kwargs=dict(\n",
    "        parse_only=bs4.SoupStrainer(\"body\")\n",
    "    ),\n",
    ")\n",
    "docs = loader.load()"
   ]
  },
  {
   "cell_type": "code",
   "execution_count": 14,
   "id": "0e781aaf-ed34-4d65-ad41-3c8e952a4399",
   "metadata": {},
   "outputs": [],
   "source": [
    "from langchain_text_splitters import RecursiveCharacterTextSplitter"
   ]
  },
  {
   "cell_type": "code",
   "execution_count": 15,
   "id": "bd851b97-ab11-44b9-a1d3-e3de46989e27",
   "metadata": {},
   "outputs": [
    {
     "name": "stdout",
     "output_type": "stream",
     "text": [
      "Below document has 118,735 tokens.\n",
      "https://ffdocproxy.prod.factset.com/DocProxy/Fetch/EA7CA834-8E1F-EF11-ABE1-12BC89A8F273\n"
     ]
    }
   ],
   "source": [
    "print(f\"Below document has {'118,735'} tokens.\")\n",
    "print(url)\n",
    "#response = requests.get(url)\n",
    "#text = response.content"
   ]
  },
  {
   "cell_type": "code",
   "execution_count": 29,
   "id": "3b5bc6c4-774f-4ccb-9161-934ab9eb633d",
   "metadata": {},
   "outputs": [],
   "source": [
    "text_splitter = RecursiveCharacterTextSplitter(chunk_size=200, chunk_overlap=20)\n",
    "splits = text_splitter.split_documents(docs)"
   ]
  },
  {
   "cell_type": "code",
   "execution_count": 30,
   "id": "9b5ba432-e8da-4c5e-9cbf-c88c4636f6f0",
   "metadata": {},
   "outputs": [],
   "source": [
    "query = \"\"\"Please extract the following information from the given document:\n",
    " \n",
    "ISIN: ISIN is a standard security code that is used worldwide to identify specific securities such as bonds, stocks (common and preferred), futures, warrant, rights, trusts, commercial paper, and options.\n",
    " \n",
    "Example Value: US606822DE19\n",
    "Entity: Issuer is a legal entity that develops, registers and sells securities with the purpose of financing its operations.\n",
    " \n",
    "Example Value: Mitsubishi UFJ Financial Group, Inc.\n",
    "Deal Type: Deal Type is the security type grouping of the instrument being offered.\n",
    " \n",
    "Example Value: Medium-Term Notes\n",
    "Seniority: Seniority of a security shows the order of repayment in the event the issuer goes bankrupt or defaults.\n",
    " \n",
    "Example Value: Senior\n",
    "COCO: Flag for Contingent convertibles, also known as CoCos, are a type of hybrid debt security that can be converted into equity shares if a specified trigger event occurs.\n",
    " \n",
    "Example Value: null\n",
    "Pledge Status: Indicator whether the debt is secured by a specific asset of the issuer to give protection to the bondholders in case the issuer defaults.\n",
    " \n",
    "Example Value: Unsecured\n",
    "Issue Price (%): Issue Price is the price at which investors buy the bonds when they are first issued, which will typically be approximately equal to the nominal amount.\n",
    " \n",
    "Example Value: 100.00000\n",
    "Face Value: Face Value/Par Value is the actual currency amount that each security is worth. Any calculation of redemption, conversion or liquidation of the security is based on Face Value.\n",
    " \n",
    "Example Value: 1000.00000\n",
    "Min Denomination/Subscription: Min Denomination is the minimum amount an investor must subscribe to in order to purchase the securities.\n",
    " \n",
    "Example Value: 200000.00\n",
    "Issue Date: Date when the security is issued.\n",
    " \n",
    "Example Value: 2024-04-17\n",
    "Principal Amount: The aggregate nominal amount issued for the security at the time of issuance.\n",
    " \n",
    "Example Value: 900000000.00000\n",
    "Issue Currency: Currency of the Principal Amount that the notes are issued.\n",
    " \n",
    "Example Value: U.S. Dollar\n",
    "Scheduled Maturity Date: Date when the security is redeemed.\n",
    " \n",
    "Example Value: 2030-04-17\n",
    "First Payment Date: Date when the first coupon/divided payment will happen.\n",
    " \n",
    "Example Value: 2024-10-17\n",
    "Type: Type of Coupon (e.g., Fixed Rate).\n",
    " \n",
    "Example Value: Fixed Rate\n",
    "Rate: Fixed Annual Coupon Rate/Annual Accretion Rate Value.\n",
    " \n",
    "Example Value: 5.25800\n",
    "Base Index: Reference instrument the Coupon Type Variable/Conditional/Floating Rate will be using.\n",
    " \n",
    "Example Value: null\n",
    "Spread: Fixed value that is added/subtracted to the Base Index when calculating the coupon rate in a coupon period.\n",
    " \n",
    "Example Value: null\n",
    "Day Count: Day Count Conventions are used to count the appropriate number of days between two dates in order to calculate accrued interest, yields and odd coupon amounts.\n",
    " \n",
    "Example Value: 30/360\n",
    "First Accrual Date: First Accrual Date is the start date of the accrual interest period.\n",
    " \n",
    "Example Value: 2024-04-17\n",
    "Payment Frequency: Payment Frequency and Payment Frequency Units show how frequent the coupon payments are made.\n",
    " \n",
    "Example Value: 2\n",
    "Payment Frequency Units: Units of payment frequency (e.g., Times per Year).\n",
    " \n",
    "Example Value: Times per Year\n",
    "Effective Payment Date: Effective Payment Date is the first interest payment date in a coupon leg.\n",
    " \n",
    "Example Value: 2024-10-17\n",
    "End Payment Date: End Payment Date is the last interest payment date in a coupon leg.\n",
    " \n",
    "Example Value: 2029-04-17\n",
    "Call Type: Type of Early Redemption.\n",
    " \n",
    "Example Value: Optional\n",
    "Call Frequency Type: Early Redemption Frequency type shows how frequently the bonds may be redeemed early.\n",
    " \n",
    "Example Value: Discrete on Schedule\n",
    "Call Effective Date: Early redemption start date (for continuous on schedule or every coupon or discrete on schedule with periodic dates) or the effective early redemption date (for discrete on schedule – on the effective date).\n",
    " \n",
    "Example Value: 2024-04-17\n",
    "Call End Date: The end date for the early redemption period.\n",
    " \n",
    "Example Value: 2030-04-17\n",
    "Call Price: The price at which the principal will be redeemed.\n",
    " \n",
    "Example Value: 100.00000\n",
    "CONVERTIBILITY: Conversion details of the Bond.\n",
    " \n",
    "Example Value: null\n",
    "Document to extract from:\n",
    " \n",
    "If any value is not available, return null for that field. Return the output in markdown table format with columns Field, Value with proper column width.\n",
    "If there are multiple transactions return each in a different markdown table\n",
    "\"\"\""
   ]
  },
  {
   "cell_type": "code",
   "execution_count": 31,
   "id": "92bf43c8-77a5-48d7-9158-e6369b9a337f",
   "metadata": {
    "scrolled": true
   },
   "outputs": [],
   "source": [
    "from langchain_openai import AzureOpenAIEmbeddings\n",
    "\n",
    "embeddings = AzureOpenAIEmbeddings(\n",
    "    model=\"text-embedding-ada-002\",\n",
    "    openai_api_version=os.environ[\"OPENAI_API_VERSION\"],\n",
    "    openai_api_type=os.environ[\"OPENAI_API_TYPE\"],\n",
    "    azure_endpoint=os.environ[\"AZURE_OPENAI_ENDPOINT\"],\n",
    "    openai_api_key=os.environ[\"AZURE_OPENAI_API_KEY\"],\n",
    ")\n",
    "\n",
    "vectorstore = Chroma.from_documents(documents=splits, embedding=embeddings)"
   ]
  },
  {
   "cell_type": "code",
   "execution_count": 32,
   "id": "c686246f-71f5-4844-8557-64373366136f",
   "metadata": {},
   "outputs": [],
   "source": [
    "from langchain import hub\n",
    "retriever = vectorstore.as_retriever()\n",
    "prompt = hub.pull(\"rlm/rag-prompt\")"
   ]
  },
  {
   "cell_type": "code",
   "execution_count": 33,
   "id": "93a0f2e2-8354-43b7-906b-7ca933b3d98c",
   "metadata": {},
   "outputs": [],
   "source": [
    "def format_docs(docs):\n",
    "    return \"\\n\\n\".join(doc.page_content for doc in docs)"
   ]
  },
  {
   "cell_type": "code",
   "execution_count": 34,
   "id": "80d66988-df98-439a-9431-6e19d0d5b07a",
   "metadata": {},
   "outputs": [],
   "source": [
    "rag_chain = (\n",
    "    {\"context\": retriever | format_docs, \"question\": RunnablePassthrough()}\n",
    "    | prompt\n",
    "    | llm\n",
    "    | StrOutputParser()\n",
    ")"
   ]
  },
  {
   "cell_type": "code",
   "execution_count": 37,
   "id": "9686f526-e24d-4e28-aff4-0a4a66687cf6",
   "metadata": {},
   "outputs": [
    {
     "name": "stdout",
     "output_type": "stream",
     "text": [
      "I don't know.\n"
     ]
    }
   ],
   "source": [
    "#print(rag_chain.invoke(query))\n",
    "print(rag_chain.invoke(\"What is the data about\"))"
   ]
  },
  {
   "cell_type": "code",
   "execution_count": null,
   "id": "2b494fed-7130-4235-a3f7-4ddbce1d4f54",
   "metadata": {},
   "outputs": [],
   "source": []
  }
 ],
 "metadata": {
  "kernelspec": {
   "display_name": "Python 3 (ipykernel)",
   "language": "python",
   "name": "python3"
  },
  "language_info": {
   "codemirror_mode": {
    "name": "ipython",
    "version": 3
   },
   "file_extension": ".py",
   "mimetype": "text/x-python",
   "name": "python",
   "nbconvert_exporter": "python",
   "pygments_lexer": "ipython3",
   "version": "3.11.6"
  }
 },
 "nbformat": 4,
 "nbformat_minor": 5
}
